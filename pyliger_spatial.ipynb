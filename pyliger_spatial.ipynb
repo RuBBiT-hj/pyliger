{
 "cells": [
  {
   "cell_type": "code",
   "execution_count": 1,
   "metadata": {},
   "outputs": [
    {
     "name": "stderr",
     "output_type": "stream",
     "text": [
      "/Users/rubbit/anaconda3/envs/genetics_env/lib/python3.10/site-packages/tqdm/auto.py:21: TqdmWarning: IProgress not found. Please update jupyter and ipywidgets. See https://ipywidgets.readthedocs.io/en/stable/user_install.html\n",
      "/Users/rubbit/anaconda3/envs/genetics_env/lib/python3.10/site-packages/numba/np/ufunc/dufunc.py:344: NumbaWarning: \u001b[1mCompilation requested for previously compiled argument types ((uint32,)). This has no effect and perhaps indicates a bug in the calling code (compiling a ufunc more than once for the same signature\u001b[0m\n",
      "/Users/rubbit/anaconda3/envs/genetics_env/lib/python3.10/site-packages/numba/np/ufunc/dufunc.py:344: NumbaWarning: \u001b[1mCompilation requested for previously compiled argument types ((uint32,)). This has no effect and perhaps indicates a bug in the calling code (compiling a ufunc more than once for the same signature\u001b[0m\n",
      "/Users/rubbit/anaconda3/envs/genetics_env/lib/python3.10/site-packages/numba/np/ufunc/dufunc.py:344: NumbaWarning: \u001b[1mCompilation requested for previously compiled argument types ((uint32,)). This has no effect and perhaps indicates a bug in the calling code (compiling a ufunc more than once for the same signature\u001b[0m\n"
     ]
    }
   ],
   "source": [
    "import pyliger"
   ]
  },
  {
   "cell_type": "code",
   "execution_count": 2,
   "metadata": {},
   "outputs": [
    {
     "name": "stdout",
     "output_type": "stream",
     "text": [
      "/Users/rubbit/Documents/GitHub/pyliger/src/pyliger/__init__.py\n"
     ]
    }
   ],
   "source": [
    "print(pyliger.__file__)"
   ]
  },
  {
   "cell_type": "code",
   "execution_count": 2,
   "metadata": {},
   "outputs": [],
   "source": [
    "import numpy as np\n",
    "import pandas as pd\n",
    "import matplotlib.pyplot as plt\n",
    "import seaborn as sns\n",
    "from sklearn.metrics import mean_squared_error\n",
    "import pyliger as pl\n",
    "from scipy.stats import pearsonr, spearmanr\n",
    "from scipy.optimize import linear_sum_assignment\n",
    "import os\n",
    "import anndata as ad"
   ]
  },
  {
   "cell_type": "code",
   "execution_count": 3,
   "metadata": {},
   "outputs": [],
   "source": [
    "X_dataset1 = pd.read_csv(\"/Users/rubbit/Desktop/Brown/PHP 2691/Project/X_dataset1.csv\").values\n",
    "X_dataset2 = pd.read_csv(\"/Users/rubbit/Desktop/Brown/PHP 2691/Project/X_dataset2.csv\").values\n",
    "coords1 = pd.read_csv(\"/Users/rubbit/Desktop/Brown/PHP 2691/Project/coords_dataset1.csv\").values\n",
    "coords2 = pd.read_csv(\"/Users/rubbit/Desktop/Brown/PHP 2691/Project/coords_dataset2.csv\").values"
   ]
  },
  {
   "cell_type": "code",
   "execution_count": 4,
   "metadata": {},
   "outputs": [],
   "source": [
    "# Create AnnData object\n",
    "adata1 = ad.AnnData(X_dataset1)\n",
    "adata1.obs_names = [f\"Spot{i}\" for i in range(X_dataset1.shape[0])]\n",
    "adata1.var_names = [f\"Gene{j}\" for j in range(X_dataset1.shape[1])]\n",
    "\n",
    "# ✅ Required by pyLiger:\n",
    "adata1.obs.index.name = \"cell\"\n",
    "adata1.var.index.name = \"gene\"\n",
    "# ✅ Required by PyLiger\n",
    "adata1.uns[\"sample_name\"] = \"simulated1\"\n",
    "\n",
    "# Create AnnData object\n",
    "adata2 = ad.AnnData(X_dataset2)\n",
    "adata2.obs_names = [f\"Spot{i}\" for i in range(X_dataset2.shape[0])]\n",
    "adata2.var_names = [f\"Gene{j}\" for j in range(X_dataset2.shape[1])]\n",
    "\n",
    "# ✅ Required by pyLiger:\n",
    "adata2.obs.index.name = \"cell\"\n",
    "adata2.var.index.name = \"gene\"\n",
    "# ✅ Required by PyLiger\n",
    "adata2.uns[\"sample_name\"] = \"simulated2\"\n"
   ]
  },
  {
   "cell_type": "code",
   "execution_count": null,
   "metadata": {},
   "outputs": [],
   "source": []
  },
  {
   "cell_type": "code",
   "execution_count": 5,
   "metadata": {},
   "outputs": [],
   "source": [
    "from sklearn.neighbors import NearestNeighbors"
   ]
  },
  {
   "cell_type": "code",
   "execution_count": 6,
   "metadata": {},
   "outputs": [],
   "source": [
    "def build_spatial_laplacian(coords, n_neighbors=8, sigma=1.0):\n",
    "    \"\"\"Build unnormalized graph Laplacian from spatial coords.\"\"\"\n",
    "    nbrs = NearestNeighbors(n_neighbors=n_neighbors + 1).fit(coords)\n",
    "    dists, idxs = nbrs.kneighbors(coords)\n",
    "    n = coords.shape[0]\n",
    "    W = np.zeros((n, n), dtype=float)\n",
    "    for i in range(n):\n",
    "        for dist, j in zip(dists[i, 1:], idxs[i, 1:]):\n",
    "            w = np.exp(-dist**2 / (2 * sigma**2))\n",
    "            W[i, j] = W[j, i] = w\n",
    "    D = np.diag(W.sum(axis=1))\n",
    "    return D - W\n",
    "coords_list = [coords1, coords2]\n",
    "L_list = []\n",
    "for i in range(2):\n",
    "    coords = coords_list[i]\n",
    "    L_list.append(build_spatial_laplacian(coords, n_neighbors=8, sigma=2))"
   ]
  },
  {
   "cell_type": "code",
   "execution_count": 15,
   "metadata": {},
   "outputs": [
    {
     "name": "stderr",
     "output_type": "stream",
     "text": [
      "ALS rep 1: 100%|██████████| 30/30 [00:01<00:00, 23.07it/s]\n",
      "ALS rep 2: 100%|██████████| 30/30 [00:01<00:00, 18.39it/s]\n",
      "ALS rep 3: 100%|██████████| 30/30 [00:02<00:00, 14.14it/s]\n",
      "ALS rep 4: 100%|██████████| 30/30 [00:01<00:00, 26.33it/s]\n",
      "ALS rep 5: 100%|██████████| 30/30 [00:01<00:00, 20.67it/s]\n",
      "ALS rep 6: 100%|██████████| 30/30 [00:01<00:00, 26.86it/s]\n",
      "ALS rep 7: 100%|██████████| 30/30 [00:00<00:00, 33.66it/s]\n",
      "ALS rep 8: 100%|██████████| 30/30 [00:00<00:00, 33.99it/s]\n",
      "ALS rep 9: 100%|██████████| 30/30 [00:01<00:00, 29.20it/s]\n",
      "ALS rep 10: 100%|██████████| 30/30 [00:01<00:00, 26.70it/s]\n"
     ]
    },
    {
     "data": {
      "text/plain": [
       "<pyliger.pyliger.Liger at 0x33dc565e0>"
      ]
     },
     "execution_count": 15,
     "metadata": {},
     "output_type": "execute_result"
    }
   ],
   "source": [
    "# 3. Create PyLiger object (as a dictionary of dataset name → AnnData)\n",
    "liger_int = pyliger.create_liger([adata1, adata2], remove_missing=False)\n",
    "pyliger.normalize(liger_int, remove_missing=False)\n",
    "pyliger.select_genes(liger_int, var_thresh=0)\n",
    "#liger.adata_list\n",
    "pyliger.scale_not_center(liger_int, remove_missing=False)\n",
    "pyliger.optimize_ALS(liger_int, L_list=L_list, spatial_gamma=80, bi_gamma=0.5, nrep = 10, k = 4)"
   ]
  },
  {
   "cell_type": "code",
   "execution_count": 21,
   "metadata": {},
   "outputs": [
    {
     "data": {
      "text/plain": [
       "[AnnData object with n_obs × n_vars = 625 × 1395\n",
       "     obs: 'nUMI', 'nGene', 'dataset'\n",
       "     var: 'gene_sum', 'gene_sum_sq', 'nCell', 'norm_sum', 'norm_sum_sq', 'norm_mean', 'norm_var'\n",
       "     uns: 'sample_name', 'var_gene_idx'\n",
       "     obsm: 'H'\n",
       "     varm: 'W', 'V'\n",
       "     layers: 'norm_data', 'scale_data',\n",
       " AnnData object with n_obs × n_vars = 625 × 1395\n",
       "     obs: 'nUMI', 'nGene', 'dataset'\n",
       "     var: 'gene_sum', 'gene_sum_sq', 'nCell', 'norm_sum', 'norm_sum_sq', 'norm_mean', 'norm_var'\n",
       "     uns: 'sample_name', 'var_gene_idx'\n",
       "     obsm: 'H'\n",
       "     varm: 'W', 'V'\n",
       "     layers: 'norm_data', 'scale_data']"
      ]
     },
     "execution_count": 21,
     "metadata": {},
     "output_type": "execute_result"
    }
   ],
   "source": [
    "liger_int.adata_list"
   ]
  },
  {
   "cell_type": "code",
   "execution_count": 17,
   "metadata": {},
   "outputs": [],
   "source": [
    "H_dataset1 = liger_int.H[0]\n",
    "H_dataset2 = liger_int.H[1]\n",
    "H1_df = pd.DataFrame(\n",
    "    H_dataset1\n",
    ")\n",
    "H1_df.to_csv(\"/Users/rubbit/Desktop/Brown/PHP 2691/Project/H_liger_spatial_1.csv\")\n",
    "\n",
    "H2_df = pd.DataFrame(\n",
    "    H_dataset2\n",
    ")\n",
    "H2_df.to_csv(\"/Users/rubbit/Desktop/Brown/PHP 2691/Project/H_liger_spatial_2.csv\")"
   ]
  },
  {
   "cell_type": "code",
   "execution_count": 18,
   "metadata": {},
   "outputs": [],
   "source": [
    "W_dataset1 = liger_int.W[0]"
   ]
  },
  {
   "cell_type": "code",
   "execution_count": null,
   "metadata": {},
   "outputs": [],
   "source": [
    "help()"
   ]
  },
  {
   "cell_type": "code",
   "execution_count": 19,
   "metadata": {},
   "outputs": [],
   "source": [
    "W1_df = pd.DataFrame(\n",
    "    W_dataset1\n",
    ")\n",
    "W1_df.to_csv(\"/Users/rubbit/Desktop/Brown/PHP 2691/Project/W_liger_spatial_1.csv\")"
   ]
  },
  {
   "cell_type": "code",
   "execution_count": 22,
   "metadata": {},
   "outputs": [],
   "source": [
    "V_dataset1 = liger_int.V[0]\n",
    "V1_df = pd.DataFrame(\n",
    "    V_dataset1\n",
    ")\n",
    "V1_df.to_csv(\"/Users/rubbit/Desktop/Brown/PHP 2691/Project/V_liger_spatial_1.csv\")"
   ]
  }
 ],
 "metadata": {
  "kernelspec": {
   "display_name": "genetics_env",
   "language": "python",
   "name": "python3"
  },
  "language_info": {
   "codemirror_mode": {
    "name": "ipython",
    "version": 3
   },
   "file_extension": ".py",
   "mimetype": "text/x-python",
   "name": "python",
   "nbconvert_exporter": "python",
   "pygments_lexer": "ipython3",
   "version": "3.10.13"
  }
 },
 "nbformat": 4,
 "nbformat_minor": 2
}
