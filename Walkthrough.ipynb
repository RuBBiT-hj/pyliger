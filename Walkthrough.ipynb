{
 "cells": [
  {
   "cell_type": "markdown",
   "metadata": {},
   "source": [
    "# Joint definition of cell types from multiple scRNA-seq datasets (python version)"
   ]
  },
  {
   "cell_type": "markdown",
   "metadata": {},
   "source": [
    "This notebook demonstrates the usage of the pyliger package."
   ]
  },
  {
   "cell_type": "code",
   "execution_count": 1,
   "metadata": {},
   "outputs": [
    {
     "name": "stderr",
     "output_type": "stream",
     "text": [
      "/opt/anaconda3/lib/python3.7/site-packages/anndata/_core/anndata.py:21: FutureWarning: pandas.core.index is deprecated and will be removed in a future version.  The public classes are available in the top-level namespace.\n",
      "  from pandas.core.index import RangeIndex\n"
     ]
    }
   ],
   "source": [
    "# Please load following modules\n",
    "import pyliger\n",
    "from anndata import read_h5ad"
   ]
  },
  {
   "cell_type": "markdown",
   "metadata": {},
   "source": [
    "# Stage I: Preprocessing and Normalization (3 - 5 seconds)"
   ]
  },
  {
   "cell_type": "markdown",
   "metadata": {},
   "source": [
    "0. (unfinished) Example of reading in 10X CellRanger output using read10X function. "
   ]
  },
  {
   "cell_type": "code",
   "execution_count": null,
   "metadata": {},
   "outputs": [],
   "source": [
    "sample_dirs = ['10x_ctrl_outs', '10x_stim_outs']\n",
    "sample_names = ['ctrl', 'stim']\n",
    "\n",
    "adata_list = read10X(sample_dirs, sample_names, merge = False)"
   ]
  },
  {
   "cell_type": "markdown",
   "metadata": {},
   "source": [
    "1. For the first portion of this protocol, we will be integrating data from control and interferon-stimulated PBMCs from Kang et al, 2017. The data can be found in the Gene Expression Omnibus, Series GSE96583. This dataset was originally in the form of output from the 10X Cellranger pipeline, though we will directly load downsampled versions of the control and stimulated DGEs here.\n",
    "\n",
    "    For convenience, we have prepared the pre-processed data which are ready to use. There are three datasets: “PBMC_control.h5ad.gz” and “PBMC_interferon-stimulated.h5ad.gz”, which correspond to control and interferon-stimulated PBMCs individually. "
   ]
  },
  {
   "cell_type": "code",
   "execution_count": 2,
   "metadata": {},
   "outputs": [],
   "source": [
    "ctrl_dge = read_h5ad('./pyliger/datasets/PBMC_control.h5ad')\n",
    "stim_dge = read_h5ad('./pyliger/datasets/PBMC_interferon-stimulated.h5ad')"
   ]
  },
  {
   "cell_type": "markdown",
   "metadata": {},
   "source": [
    "2. With the digital gene expression matrices for both datasets, we can initialize a pyliger object using createLiger function."
   ]
  },
  {
   "cell_type": "code",
   "execution_count": 3,
   "metadata": {},
   "outputs": [
    {
     "name": "stdout",
     "output_type": "stream",
     "text": [
      "Removing 20756 genes not expressing in ctrl.\n",
      "Removing 21057 genes not expressing in stim.\n"
     ]
    }
   ],
   "source": [
    "adata_list = [ctrl_dge, stim_dge]\n",
    "ifnb_liger = pyliger.createLiger(adata_list)"
   ]
  },
  {
   "cell_type": "markdown",
   "metadata": {},
   "source": [
    "3. Before we can run iNMF on our datasets, we must run several preprocessing steps to normalize expression data to account for differences in sequencing depth and efficiency between cells, identify variably expressed genes, and scale the data so that each gene has the same variance. Note that because nonnegative matrix factorization requires positive values, we do not center the data by subtracting the mean. We also do not log transform the data."
   ]
  },
  {
   "cell_type": "code",
   "execution_count": 4,
   "metadata": {},
   "outputs": [],
   "source": [
    "ifnb_liger = pyliger.normalize(ifnb_liger)\n",
    "ifnb_liger = pyliger.selectGenes(ifnb_liger)\n",
    "ifnb_liger = pyliger.scaleNotCenter(ifnb_liger)"
   ]
  },
  {
   "cell_type": "markdown",
   "metadata": {},
   "source": [
    "4. "
   ]
  },
  {
   "cell_type": "markdown",
   "metadata": {},
   "source": [
    "# Stage II: Joint Matrix Factorization (3 - 10 minutes)"
   ]
  },
  {
   "cell_type": "code",
   "execution_count": null,
   "metadata": {},
   "outputs": [],
   "source": [
    "#ifnb_liger = pyliger.optimizeALS(ifnb_liger, k = 20)"
   ]
  },
  {
   "cell_type": "code",
   "execution_count": 5,
   "metadata": {},
   "outputs": [
    {
     "name": "stdout",
     "output_type": "stream",
     "text": [
      "Initial Training Obj: 14433435.42277551\n",
      "Iter: 1, Total time: 0.07457900047302246, Obj Delta: 1.9999999999994966\n",
      "Iter: 2, Total time: 0.14094805717468262, Obj Delta: 1.2253752215814084\n",
      "Iter: 3, Total time: 0.20684814453125, Obj Delta: 1.9652194739023687\n",
      "Iter: 4, Total time: 0.2781031131744385, Obj Delta: 0.593886471810166\n",
      "Iter: 5, Total time: 0.34319019317626953, Obj Delta: 1.287083274784265\n",
      "Iter: 6, Total time: 0.4087991714477539, Obj Delta: 0.5614432894144349\n",
      "Iter: 7, Total time: 0.4729270935058594, Obj Delta: 1.9999979329658466\n",
      "Iter: 8, Total time: 0.5388922691345215, Obj Delta: 1.9999993378960228\n",
      "Iter: 9, Total time: 0.6046593189239502, Obj Delta: 1.9999993148491748\n",
      "Iter: 10, Total time: 0.669513463973999, Obj Delta: 1.9999981575684798\n",
      "Iter: 11, Total time: 0.7365355491638184, Obj Delta: 1.9997605985511875\n",
      "Iter: 12, Total time: 0.8074624538421631, Obj Delta: 1.6675891043716606\n",
      "Iter: 13, Total time: 0.87497878074646, Obj Delta: 1.9802714047202257\n",
      "Iter: 14, Total time: 0.9400479793548584, Obj Delta: 0.9710665183114617\n",
      "Iter: 15, Total time: 1.0059549808502197, Obj Delta: 1.9989128026246623\n",
      "Iter: 16, Total time: 1.076061725616455, Obj Delta: 1.4348606700588298\n",
      "Iter: 17, Total time: 1.1414697170257568, Obj Delta: 1.9997853026775823\n",
      "Iter: 18, Total time: 1.2067246437072754, Obj Delta: 1.9995455168848064\n",
      "Iter: 19, Total time: 1.2731196880340576, Obj Delta: 1.9998588051191628\n",
      "Iter: 20, Total time: 1.3392295837402344, Obj Delta: 1.9999974270315737\n",
      "Iter: 21, Total time: 1.4080305099487305, Obj Delta: 1.999999999222916\n",
      "Iter: 22, Total time: 1.4861981868743896, Obj Delta: 1.999994932680614\n",
      "Iter: 23, Total time: 1.555692195892334, Obj Delta: 0.15130339831171682\n",
      "Iter: 24, Total time: 1.6286530494689941, Obj Delta: 1.8778536429140376\n",
      "Iter: 25, Total time: 1.7012200355529785, Obj Delta: 1.7125438714969887\n",
      "Iter: 26, Total time: 1.7700133323669434, Obj Delta: 1.8683277774652383\n",
      "Iter: 27, Total time: 1.843853235244751, Obj Delta: 1.8778197318931256\n",
      "Iter: 28, Total time: 1.9131112098693848, Obj Delta: 1.7162549632895334\n",
      "Iter: 29, Total time: 1.983696460723877, Obj Delta: 1.5612710887948527\n",
      "Iter: 30, Total time: 2.0510663986206055, Obj Delta: 0.5975690492665636\n"
     ]
    }
   ],
   "source": [
    "ifnb_liger = pyliger.iNMF_HALS(ifnb_liger, k = 20)"
   ]
  },
  {
   "cell_type": "markdown",
   "metadata": {},
   "source": [
    "5. "
   ]
  },
  {
   "cell_type": "markdown",
   "metadata": {},
   "source": [
    "# Stage III: Quantile Normalization and Joint Clustering (1 minute)"
   ]
  },
  {
   "cell_type": "code",
   "execution_count": null,
   "metadata": {},
   "outputs": [],
   "source": [
    "ifnb_liger = quantile_norm(ifnb_liger)"
   ]
  },
  {
   "cell_type": "markdown",
   "metadata": {},
   "source": [
    "6."
   ]
  },
  {
   "cell_type": "code",
   "execution_count": null,
   "metadata": {},
   "outputs": [],
   "source": [
    "ifnb_liger = louvainCluster(ifnb_liger, resolution = 0.25)"
   ]
  },
  {
   "cell_type": "markdown",
   "metadata": {},
   "source": [
    "7. "
   ]
  },
  {
   "cell_type": "markdown",
   "metadata": {},
   "source": [
    "# Stage IV: Visualization (2 - 3 minutes) and Downstream Analysis (25 - 40 seconds)"
   ]
  },
  {
   "cell_type": "code",
   "execution_count": null,
   "metadata": {},
   "outputs": [],
   "source": [
    "ifnb_liger = runUMAP(ifnb_liger, distance = 'cosine', n_neighbors = 30, min_dist = 0.3)"
   ]
  },
  {
   "cell_type": "markdown",
   "metadata": {},
   "source": [
    "8."
   ]
  },
  {
   "cell_type": "code",
   "execution_count": null,
   "metadata": {},
   "outputs": [],
   "source": []
  }
 ],
 "metadata": {
  "kernelspec": {
   "display_name": "Python 3",
   "language": "python",
   "name": "python3"
  },
  "language_info": {
   "codemirror_mode": {
    "name": "ipython",
    "version": 3
   },
   "file_extension": ".py",
   "mimetype": "text/x-python",
   "name": "python",
   "nbconvert_exporter": "python",
   "pygments_lexer": "ipython3",
   "version": "3.7.4"
  }
 },
 "nbformat": 4,
 "nbformat_minor": 2
}
