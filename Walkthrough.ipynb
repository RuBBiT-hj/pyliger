{
 "cells": [
  {
   "cell_type": "markdown",
   "metadata": {},
   "source": [
    "# Joint definition of cell types from multiple scRNA-seq datasets (python version)"
   ]
  },
  {
   "cell_type": "markdown",
   "metadata": {},
   "source": [
    "This notebook demonstrates the usage of the pyliger package."
   ]
  },
  {
   "cell_type": "code",
   "execution_count": 1,
   "metadata": {},
   "outputs": [
    {
     "name": "stderr",
     "output_type": "stream",
     "text": [
      "/opt/anaconda3/lib/python3.7/site-packages/anndata/_core/anndata.py:21: FutureWarning: pandas.core.index is deprecated and will be removed in a future version.  The public classes are available in the top-level namespace.\n",
      "  from pandas.core.index import RangeIndex\n"
     ]
    }
   ],
   "source": [
    "# Please load following modules\n",
    "import pyliger\n",
    "from anndata import read_h5ad"
   ]
  },
  {
   "cell_type": "markdown",
   "metadata": {},
   "source": [
    "# Stage I: Preprocessing and Normalization (3 - 5 seconds)"
   ]
  },
  {
   "cell_type": "markdown",
   "metadata": {},
   "source": [
    "0. (unfinished) Example of reading in 10X CellRanger output using read10X function. "
   ]
  },
  {
   "cell_type": "code",
   "execution_count": null,
   "metadata": {},
   "outputs": [],
   "source": [
    "sample_dirs = ['10x_ctrl_outs', '10x_stim_outs']\n",
    "sample_names = ['ctrl', 'stim']\n",
    "\n",
    "adata_list = pyliger.read_10x(sample_dirs, sample_names, merge = False)"
   ]
  },
  {
   "cell_type": "markdown",
   "metadata": {},
   "source": [
    "1. For the first portion of this protocol, we will be integrating data from control and interferon-stimulated PBMCs from Kang et al, 2017. The data can be found in the Gene Expression Omnibus, Series GSE96583. This dataset was originally in the form of output from the 10X Cellranger pipeline, though we will directly load downsampled versions of the control and stimulated DGEs here.\n",
    "\n",
    "    For convenience, we have prepared the pre-processed data which are ready to use. There are three datasets: “PBMC_control.h5ad.gz” and “PBMC_interferon-stimulated.h5ad.gz”, which correspond to control and interferon-stimulated PBMCs individually. "
   ]
  },
  {
   "cell_type": "code",
   "execution_count": 2,
   "metadata": {},
   "outputs": [],
   "source": [
    "ctrl_dge = read_h5ad('./pyliger/datasets/PBMC_control.h5ad')\n",
    "stim_dge = read_h5ad('./pyliger/datasets/PBMC_interferon-stimulated.h5ad')"
   ]
  },
  {
   "cell_type": "markdown",
   "metadata": {},
   "source": [
    "2. With the digital gene expression matrices for both datasets, we can initialize a pyliger object using createLiger function."
   ]
  },
  {
   "cell_type": "code",
   "execution_count": 3,
   "metadata": {},
   "outputs": [
    {
     "name": "stdout",
     "output_type": "stream",
     "text": [
      "Removing 20756 genes not expressing in ctrl.\n",
      "Removing 21057 genes not expressing in stim.\n"
     ]
    }
   ],
   "source": [
    "adata_list = [ctrl_dge, stim_dge]\n",
    "ifnb_liger = pyliger.create_liger(adata_list)"
   ]
  },
  {
   "cell_type": "markdown",
   "metadata": {},
   "source": [
    "3. Before we can run iNMF on our datasets, we must run several preprocessing steps to normalize expression data to account for differences in sequencing depth and efficiency between cells, identify variably expressed genes, and scale the data so that each gene has the same variance. Note that because nonnegative matrix factorization requires positive values, we do not center the data by subtracting the mean. We also do not log transform the data."
   ]
  },
  {
   "cell_type": "code",
   "execution_count": 4,
   "metadata": {},
   "outputs": [],
   "source": [
    "%matplotlib notebook\n",
    "ifnb_liger = pyliger.normalize(ifnb_liger)\n",
    "ifnb_liger = pyliger.select_genes(ifnb_liger)\n",
    "ifnb_liger = pyliger.scale_not_center(ifnb_liger)"
   ]
  },
  {
   "cell_type": "markdown",
   "metadata": {},
   "source": [
    "4. We are now able to run integrative non-negative matrix factorization on the normalized and scaled datasets. The key parameter for this analysis is k, the number of matrix factors (analogous to the number of principal components in PCA). In general, we find that a value of k between 20 and 40 is suitable for most analyses and that results are robust for choice of k. Because LIGER is an unsupervised, exploratory approach, there is no single “right” value for k, and in practice, users choose k from a combination of biological prior knowledge and other information."
   ]
  },
  {
   "cell_type": "markdown",
   "metadata": {},
   "source": [
    "# Stage II: Joint Matrix Factorization (3 - 10 minutes)"
   ]
  },
  {
   "cell_type": "code",
   "execution_count": null,
   "metadata": {},
   "outputs": [],
   "source": [
    "#ifnb_liger = pyliger.optimizeALS(ifnb_liger, k = 20)"
   ]
  },
  {
   "cell_type": "code",
   "execution_count": 5,
   "metadata": {},
   "outputs": [
    {
     "name": "stdout",
     "output_type": "stream",
     "text": [
      "Initial Training Obj: 16203974.323134024\n",
      "Iter: 1, Total time: 0.07978701591491699, Obj Delta: 0.1971392539179789\n",
      "Iter: 2, Total time: 0.16704010963439941, Obj Delta: 0.04950030135821926\n",
      "Iter: 3, Total time: 0.23955202102661133, Obj Delta: 0.01543513038237353\n",
      "Iter: 4, Total time: 0.30680203437805176, Obj Delta: 0.007598938077226443\n",
      "Iter: 5, Total time: 0.37578773498535156, Obj Delta: 0.0037406208245092418\n",
      "Iter: 6, Total time: 0.45340776443481445, Obj Delta: 0.0022305599984215312\n",
      "Iter: 7, Total time: 0.5306367874145508, Obj Delta: 0.0014441738163870508\n",
      "Iter: 8, Total time: 0.6054568290710449, Obj Delta: 0.0010015129834642458\n",
      "Iter: 9, Total time: 0.682945728302002, Obj Delta: 0.0007372005933361657\n",
      "Iter: 10, Total time: 0.7512757778167725, Obj Delta: 0.0005766610587011725\n",
      "Iter: 11, Total time: 0.8203978538513184, Obj Delta: 0.0004935486795893421\n",
      "Iter: 12, Total time: 0.8899526596069336, Obj Delta: 0.00046948536536427053\n",
      "Iter: 13, Total time: 0.964165449142456, Obj Delta: 0.0004885263625119674\n",
      "Iter: 14, Total time: 1.0410666465759277, Obj Delta: 0.00048625316885363146\n",
      "Iter: 15, Total time: 1.1162266731262207, Obj Delta: 0.00041645369518244704\n",
      "Iter: 16, Total time: 1.1893067359924316, Obj Delta: 0.00033350979127370396\n",
      "Iter: 17, Total time: 1.259584665298462, Obj Delta: 0.0002733208113452273\n",
      "Iter: 18, Total time: 1.3269286155700684, Obj Delta: 0.00022275506539503088\n",
      "Iter: 19, Total time: 1.4026806354522705, Obj Delta: 0.00018221642287254586\n",
      "Iter: 20, Total time: 1.474069595336914, Obj Delta: 0.0001637390158831885\n",
      "Iter: 21, Total time: 1.5476365089416504, Obj Delta: 0.00017170798793500776\n",
      "Iter: 22, Total time: 1.62495756149292, Obj Delta: 0.00022022047515121235\n",
      "Iter: 23, Total time: 1.6973345279693604, Obj Delta: 0.00033897904183760304\n",
      "Iter: 24, Total time: 1.7695584297180176, Obj Delta: 0.0004851744406559472\n",
      "Iter: 25, Total time: 1.8373515605926514, Obj Delta: 0.00041803551789229614\n"
     ]
    }
   ],
   "source": [
    "ifnb_liger = pyliger.iNMF_HALS(ifnb_liger, k = 20)"
   ]
  },
  {
   "cell_type": "markdown",
   "metadata": {},
   "source": [
    "Important parameters are as follows:\n",
    "\n",
    "    -k. Integer value specifying the inner dimension of factorization, or number of factors. Higher k is recommended for datasets with more substructure. We find that a value of k in the range 20 - 40 works well for most datasets. Because this is an unsupervised, exploratory analysis, there is no single “right” value for k, and in practice, users choose k from a combination of biological prior knowledge and other information.\n",
    "    -lambda. This is a regularization parameter. Larger values penalize dataset-specific effects more strongly, causing the datasets to be better aligned, but possibly at the cost of higher reconstruction error. The default value is 5. We recommend using this value for most analyses, but find that it can be lowered to 1 in cases where the dataset differences are expected to be relatively small, such as scRNA-seq data from the same tissue but different individuals.\n",
    "    -thresh. This sets the convergence threshold. Lower values cause the algorithm to run longer. The default is 1e-6.\n",
    "    -max.iters. This variable sets the maximum number of iterations to perform. The default value is 30.\n",
    "The optimization yields several lower dimension matrices, including the H matrix of metagene loadings for each cell, the W matrix of shared factor loadings and the V matrices of dataset-specific factor loadings.\n",
    "\n",
    "Please note that the time required of this step is highly dependent on the size of the datasets being used. In most cases, this step should not take much longer than 30 minutes.\n",
    "\n",
    "5. We can now use the resulting factors to jointly cluster cells and perform quantile normalization by dataset, factor, and cluster to fully integrate the datasets. All of this functionality is encapsulated within the quantile_norm function, which uses max factor assignment followed by refinement using a k-nearest neighbors graph."
   ]
  },
  {
   "cell_type": "markdown",
   "metadata": {},
   "source": [
    "# Stage III: Quantile Normalization and Joint Clustering (1 minute)"
   ]
  },
  {
   "cell_type": "code",
   "execution_count": 6,
   "metadata": {},
   "outputs": [],
   "source": [
    "ifnb_liger = pyliger.quantile_norm(ifnb_liger)"
   ]
  },
  {
   "cell_type": "markdown",
   "metadata": {},
   "source": [
    "6."
   ]
  },
  {
   "cell_type": "code",
   "execution_count": null,
   "metadata": {},
   "outputs": [],
   "source": [
    "ifnb_liger = pyliger.louvain_cluster(ifnb_liger, resolution = 0.25)"
   ]
  },
  {
   "cell_type": "markdown",
   "metadata": {},
   "source": [
    "7. "
   ]
  },
  {
   "cell_type": "markdown",
   "metadata": {},
   "source": [
    "# Stage IV: Visualization (2 - 3 minutes) and Downstream Analysis (25 - 40 seconds)"
   ]
  },
  {
   "cell_type": "code",
   "execution_count": null,
   "metadata": {},
   "outputs": [],
   "source": [
    "ifnb_liger = pyliger.runUMAP(ifnb_liger, distance = 'cosine', n_neighbors = 30, min_dist = 0.3)"
   ]
  },
  {
   "cell_type": "markdown",
   "metadata": {},
   "source": [
    "8."
   ]
  },
  {
   "cell_type": "code",
   "execution_count": null,
   "metadata": {},
   "outputs": [],
   "source": []
  }
 ],
 "metadata": {
  "kernelspec": {
   "display_name": "Python 3",
   "language": "python",
   "name": "python3"
  },
  "language_info": {
   "codemirror_mode": {
    "name": "ipython",
    "version": 3
   },
   "file_extension": ".py",
   "mimetype": "text/x-python",
   "name": "python",
   "nbconvert_exporter": "python",
   "pygments_lexer": "ipython3",
   "version": "3.7.4"
  }
 },
 "nbformat": 4,
 "nbformat_minor": 2
}
